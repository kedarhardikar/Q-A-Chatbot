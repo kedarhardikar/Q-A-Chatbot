{
 "cells": [
  {
   "cell_type": "code",
   "execution_count": 13,
   "metadata": {},
   "outputs": [],
   "source": [
    "\n",
    "import os\n",
    "from dotenv import load_dotenv\n",
    "from langchain_community.document_loaders import PyPDFLoader\n",
    "from langchain_text_splitters import RecursiveCharacterTextSplitter\n",
    "from langchain_community.vectorstores import Chroma\n",
    "from langchain_community.embeddings import HuggingFaceEmbeddings\n",
    "from langchain_groq import ChatGroq\n",
    "from langchain_core.prompts import ChatPromptTemplate\n",
    "from langchain.chains.combine_documents import create_stuff_documents_chain\n",
    "from langchain.chains import create_retrieval_chain\n",
    "from langchain.schema import HumanMessage\n"
   ]
  },
  {
   "cell_type": "code",
   "execution_count": 2,
   "metadata": {},
   "outputs": [
    {
     "name": "stdout",
     "output_type": "stream",
     "text": [
      "API Key loaded successfully.\n"
     ]
    }
   ],
   "source": [
    "load_dotenv()\n",
    "api_key = os.getenv(\"GROQ_API_KEY\")\n",
    "if api_key:\n",
    "    print(\"API Key loaded successfully.\")\n",
    "else:\n",
    "    print(\"Failed to load API Key. Check your .env file.\")"
   ]
  },
  {
   "cell_type": "code",
   "execution_count": null,
   "metadata": {},
   "outputs": [],
   "source": [
    "# Step 1: Chunk a PDF document\n",
    "def load_and_chunk_document(pdf_path):\n",
    "    loader = PyPDFLoader(pdf_path)\n",
    "    pages = loader.load()\n",
    "    \n",
    "    # Split documents into chunks\n",
    "    text_splitter = RecursiveCharacterTextSplitter(\n",
    "        chunk_size=1000,\n",
    "        chunk_overlap=200\n",
    "    )\n",
    "    return text_splitter.split_documents(pages)\n",
    "\n",
    "chunks = load_and_chunk_document(\"doc.pdf\")  # Replace with your PDF\n",
    "text_chunks = [doc.page_content for doc in chunks]  # Convert Documents to plain text\n"
   ]
  },
  {
   "cell_type": "code",
   "execution_count": null,
   "metadata": {},
   "outputs": [
    {
     "name": "stderr",
     "output_type": "stream",
     "text": [
      "c:\\Users\\K4562517\\OneDrive - Saint-Gobain\\Desktop\\Kedar\\Q&A chatbot\\.venv\\lib\\site-packages\\tqdm\\auto.py:21: TqdmWarning: IProgress not found. Please update jupyter and ipywidgets. See https://ipywidgets.readthedocs.io/en/stable/user_install.html\n",
      "  from .autonotebook import tqdm as notebook_tqdm\n"
     ]
    }
   ],
   "source": [
    "from sentence_transformers import SentenceTransformer\n",
    "\n",
    "# Use an open-source model for embeddings\n",
    "embedding_model = SentenceTransformer(\"all-MiniLM-L6-v2\")\n",
    "\n",
    "# Generate embeddings for each chunk\n",
    "embeddings = embedding_model.encode(text_chunks, convert_to_numpy=True)"
   ]
  },
  {
   "cell_type": "code",
   "execution_count": 6,
   "metadata": {},
   "outputs": [
    {
     "name": "stdout",
     "output_type": "stream",
     "text": [
      "Embeddings stored successfully!\n"
     ]
    }
   ],
   "source": [
    "import chromadb\n",
    "\n",
    "# Initialize ChromaDB (Persistent Storage)\n",
    "chroma_client = chromadb.PersistentClient(path=\"./chroma_db\")\n",
    "\n",
    "# Create or get the collection\n",
    "collection = chroma_client.get_or_create_collection(name=\"my_document_embeddings\")\n",
    "\n",
    "# Store embeddings in ChromaDB\n",
    "for i, (chunk, embedding) in enumerate(zip(text_chunks, embeddings)):\n",
    "    collection.add(\n",
    "        ids=[f\"chunk_{i}\"],  # Unique ID for each chunk\n",
    "        documents=[chunk],    # Store the actual text\n",
    "        embeddings=[embedding.tolist()]  # Convert numpy array to list\n",
    "    )\n",
    "\n",
    "print(\"Embeddings stored successfully!\")\n"
   ]
  },
  {
   "cell_type": "code",
   "execution_count": 7,
   "metadata": {},
   "outputs": [],
   "source": [
    "# Connect to the existing ChromaDB collection\n",
    "chroma_client = chromadb.PersistentClient(path=\"./chroma_db\")\n",
    "collection = chroma_client.get_or_create_collection(name=\"my_document_embeddings\")"
   ]
  },
  {
   "cell_type": "code",
   "execution_count": 29,
   "metadata": {},
   "outputs": [],
   "source": [
    "def retrieve_relevant_chunks(query, top_k=5):\n",
    "    # Generate embedding for the query\n",
    "    query_embedding = embedding_model.encode(query, convert_to_numpy=True).tolist()\n",
    "\n",
    "    # Perform similarity search\n",
    "    results = collection.query(\n",
    "        query_embeddings=[query_embedding], \n",
    "        n_results=top_k\n",
    "    )\n",
    "\n",
    "    # Extract retrieved text chunks\n",
    "    retrieved_chunks = results[\"documents\"][0]  # Top retrieved chunks\n",
    "    return retrieved_chunks\n"
   ]
  },
  {
   "cell_type": "code",
   "execution_count": null,
   "metadata": {},
   "outputs": [],
   "source": []
  },
  {
   "cell_type": "code",
   "execution_count": 30,
   "metadata": {},
   "outputs": [],
   "source": [
    "llm = ChatGroq(model=\"llama3-8b-8192\", api_key = api_key)"
   ]
  },
  {
   "cell_type": "code",
   "execution_count": 33,
   "metadata": {},
   "outputs": [],
   "source": [
    "def generate_answer(query, retrieved_chunks):\n",
    "    # Format retrieved chunks into context\n",
    "    context = \"\\n\\n\".join(retrieved_chunks)\n",
    "\n",
    "    # Structured prompt using f-strings (correct way)\n",
    "    prompt = f\"\"\"\n",
    "You are an AI assistant that provides clear, concise, and informative answers based on provided context.\n",
    "\n",
    "### Context:\n",
    "{context}\n",
    "\n",
    "### Question:\n",
    "{query}\n",
    "\n",
    "### Instructions:\n",
    "- Summarize the relevant information from the context to answer the question.\n",
    "- Provide a **clear, structured, and fact-based response**.\n",
    "- If numerical data is present, ensure accuracy and present it in a readable format.\n",
    "- If the context does not contain enough information, say **\"The provided context does not contain sufficient details.\n",
    "- Dont include anything except the answer. \"**\n",
    "\n",
    "### Response:\n",
    "\"\"\"\n",
    "\n",
    "    # Invoke the LLM\n",
    "    response = llm.invoke(prompt)\n",
    "    \n",
    "    return response.content"
   ]
  },
  {
   "cell_type": "code",
   "execution_count": 34,
   "metadata": {},
   "outputs": [
    {
     "name": "stdout",
     "output_type": "stream",
     "text": [
      "['HARISHCHANDRAGAD \\nHarishchandragad trek is one of the most challenging treks in the western ghats of Maharashtra. A \\npopular trek which offers a variety of adventures to all kinds of trekkers. \\nIt is a hill fort in the Ahmednagar district situated in the Malshej Ghat. It climbs up to an altitude of \\n4,670 ft.  \\nHarishchandragad is an ancient fort. Its origin is said to have been in the 6th century during the rule \\nof the Kalchuri dynasty. But the caves which you see on the top are probably carved out in the 11th \\ncentury.  \\nThe various constructions on the fort and those in the surrounding region indicate the existence of \\ndiverse cultures. Saptatheertha Pushkarni, Kedareshwar cave, Harishchandra temple and other \\ncaves are the examples for that.  \\nHarishchandragad trek has multiple routes and each route offers a surprise to the trekkers. It is also \\na complete package of views once you reach the top. \\n1. An overhanging Konkan Kada(cliff) that offers a majestic view of Konkan region', '3. Since it is a rock patch, it becomes slippery during the monsoon season. Though there are \\npoles and chains for support, you can lose balance due to the steep ascent. \\n➤How to reach Harishchandragad Trek \\nHarishchandragad trek has multiple trails. All the trails start from 3 villages. They are \\n1. Khireshwar \\n2. Pachnai \\n3. Belpada/Walhivale  \\nAll three of them can be accessible by public transportation as well as your own vehicle. \\nReaching the starting point by your own vehicle', 'You can explore a bit on the top. After having a late lunch at the top, come back to the village again. \\nYou will be back at home by dinner.  \\n6. Is Harishchandragad hard for beginners? \\nYes. Harishchandragad Trek has 3 trek routes. Out of them, the trail from Pachnai village is easy-\\ngoing and suitable for beginners. The trek route is 3 km and the trail is well laid out. This route is \\neasily doable with out the help of any guide or organization. \\n7. Where is Harishchandragad located? \\nThere are three different routes to the Harishchandragad trek. Each of them starts from a different \\nbase village - Pachnai, Khireshwar, and Belpada/Walhivale. These villages are within 100–150 km of \\nboth Mumbai and Pune. \\n8. How long does it take to climb Harishchandragad? \\nIf you are trekking from Pachnai, it takes about 3 hours to reach the top of Harishchandragad. From \\nKhireshwar, it takes about 5 hours to reach the top. But if you are doing the trek from Belpada, you', 'You can explore Harishchandragad itself for one day. It has so many things to offer. However, there \\nare other forts and places to visit if you wish to. Some of them are:  \\nPimpalgaon Joga dam: This is a dam on the Pushpavati River that provides water to areas like Otur, \\nJunnar, Narayangaon, and AlePhata.  \\nAfter completing the trek, you can visit the dam and stay beside the lake. Carry your tent and camp \\nthere as well.  \\nReverse waterfall Naneghat: It is a mountain range where water flows in the reverse direction. This \\nis because of the strong wind that comes in the opposite direction to the water flow. You can visit \\nthis place after finishing the Harishchandragad trek.  \\nAmrutheshwara Temple: This is a Shiva temple built by King Jhanj. It is considered to be over 1200 \\nyears old. This temple has some of the beautiful rock carvings that are built with black and red \\nstones. This place is also called Kashmir of Maharashtra. So one must visit this temple just to enjoy', 'You can see one of the beautiful sunsets from the Konkan Kada. You must not miss the grand view \\nof the valley during the sunset. \\n2. The historical spots on the top of the Harishchandragad trek \\nHarishchandragad trek has many temples, Pushkarni and caves on the top. They all represent \\ndifferent cultures starting from the 6th century.  \\nHarishchandreshwar temple is a glorious example of the fine art of carving sculptures out of stones \\nthat prevailed in ancient India. This temple has been carved out of a single huge rock.  \\nHarishchandragad trek has many temples, Pushkarni and caves on the top. They all represent \\ndifferent cultures starting from the 6th century.  \\nHarishchandreshwar temple is a glorious example of the fine art of carving sculptures out of stones \\nthat prevailed in ancient India. This temple has been carved out of a single huge rock.  \\n3. The four pillars of Kedareshwar cave temple.']\n",
      "...........................................................................................\n",
      "Generated Answer:\n",
      " Harishchandragad is a hill fort located in the Ahmednagar district of Maharashtra, situated in the Malshej Ghat, and climbs up to an altitude of 4,670 ft. There are three different routes to reach Harishchandragad, each starting from a different base village: Pachnai, Khireshwar, and Belpada/Walhivale. These villages are within 100-150 km of both Mumbai and Pune.\n",
      "\n",
      "You can reach the starting point by public transportation or your own vehicle. Once you reach the base village, you can explore the top of the fort, which offers a variety of adventures and scenic views. The trek route from Pachnai is easy-going and suitable for beginners, taking about 3 hours to reach the top.\n"
     ]
    }
   ],
   "source": [
    "# Example query\n",
    "query = \"Where is harishchandragad and how do we reach there?\"\n",
    "retrieved_chunks = retrieve_relevant_chunks(query)\n",
    "response = generate_answer(query, retrieved_chunks)\n",
    "print(retrieved_chunks)\n",
    "print(\"...........................................................................................\")\n",
    "print(\"Generated Answer:\\n\", response)\n"
   ]
  },
  {
   "cell_type": "code",
   "execution_count": null,
   "metadata": {},
   "outputs": [],
   "source": []
  }
 ],
 "metadata": {
  "kernelspec": {
   "display_name": ".venv",
   "language": "python",
   "name": "python3"
  },
  "language_info": {
   "codemirror_mode": {
    "name": "ipython",
    "version": 3
   },
   "file_extension": ".py",
   "mimetype": "text/x-python",
   "name": "python",
   "nbconvert_exporter": "python",
   "pygments_lexer": "ipython3",
   "version": "3.10.0"
  }
 },
 "nbformat": 4,
 "nbformat_minor": 2
}
